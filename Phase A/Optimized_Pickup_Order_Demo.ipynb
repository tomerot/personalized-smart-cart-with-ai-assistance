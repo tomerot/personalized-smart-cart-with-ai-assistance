{
  "nbformat": 4,
  "nbformat_minor": 0,
  "metadata": {
    "colab": {
      "provenance": []
    },
    "kernelspec": {
      "name": "python3",
      "display_name": "Python 3"
    },
    "language_info": {
      "name": "python"
    }
  },
  "cells": [
    {
      "cell_type": "code",
      "source": [
        "!pip install ortools"
      ],
      "metadata": {
        "colab": {
          "base_uri": "https://localhost:8080/"
        },
        "id": "PSYMb79KA2iw",
        "outputId": "21291a01-9aa0-4ab1-a453-617339381f64"
      },
      "execution_count": null,
      "outputs": [
        {
          "output_type": "stream",
          "name": "stdout",
          "text": [
            "Requirement already satisfied: ortools in /usr/local/lib/python3.11/dist-packages (9.14.6206)\n",
            "Requirement already satisfied: absl-py>=2.0.0 in /usr/local/lib/python3.11/dist-packages (from ortools) (2.3.1)\n",
            "Requirement already satisfied: numpy>=1.13.3 in /usr/local/lib/python3.11/dist-packages (from ortools) (2.0.2)\n",
            "Requirement already satisfied: pandas>=2.0.0 in /usr/local/lib/python3.11/dist-packages (from ortools) (2.2.2)\n",
            "Requirement already satisfied: protobuf<6.32,>=6.31.1 in /usr/local/lib/python3.11/dist-packages (from ortools) (6.31.1)\n",
            "Requirement already satisfied: typing-extensions>=4.12 in /usr/local/lib/python3.11/dist-packages (from ortools) (4.14.1)\n",
            "Requirement already satisfied: immutabledict>=3.0.0 in /usr/local/lib/python3.11/dist-packages (from ortools) (4.2.1)\n",
            "Requirement already satisfied: python-dateutil>=2.8.2 in /usr/local/lib/python3.11/dist-packages (from pandas>=2.0.0->ortools) (2.9.0.post0)\n",
            "Requirement already satisfied: pytz>=2020.1 in /usr/local/lib/python3.11/dist-packages (from pandas>=2.0.0->ortools) (2025.2)\n",
            "Requirement already satisfied: tzdata>=2022.7 in /usr/local/lib/python3.11/dist-packages (from pandas>=2.0.0->ortools) (2025.2)\n",
            "Requirement already satisfied: six>=1.5 in /usr/local/lib/python3.11/dist-packages (from python-dateutil>=2.8.2->pandas>=2.0.0->ortools) (1.17.0)\n"
          ]
        }
      ]
    },
    {
      "cell_type": "code",
      "source": [
        "from ortools.constraint_solver import pywrapcp\n",
        "from ortools.constraint_solver import routing_enums_pb2\n",
        "import time"
      ],
      "metadata": {
        "id": "5TZB6J0lBPk8"
      },
      "execution_count": null,
      "outputs": []
    },
    {
      "cell_type": "code",
      "execution_count": null,
      "metadata": {
        "colab": {
          "base_uri": "https://localhost:8080/"
        },
        "id": "4t0vi_dpwGtg",
        "outputId": "63fe49de-e888-4354-d0b8-a7be78385f46"
      },
      "outputs": [
        {
          "output_type": "stream",
          "name": "stdout",
          "text": [
            "Near-optimal shopping path: [0, 2, 1, 3]\n"
          ]
        }
      ],
      "source": [
        "# Problem data initialization\n",
        "data = {}\n",
        "data[\"distance_matrix\"] = [\n",
        "      [0, 12, 6, 9], # 'S' distances\n",
        "      [12, 0, 7, 6], # 'A' distances\n",
        "      [6, 7, 0, 6],  # 'B' distances\n",
        "      [9, 6, 6, 0]   # 'C' distances\n",
        "]\n",
        "data[\"num_vehicles\"] = 1 # Represents a single customer (TSP)\n",
        "data[\"depot\"] = 0        # Index of the start/end node ('S')\n",
        "\n",
        "# Routing model creation\n",
        "manager = pywrapcp.RoutingIndexManager(\n",
        "    len(data[\"distance_matrix\"]), data[\"num_vehicles\"], data[\"depot\"]\n",
        ")\n",
        "routing = pywrapcp.RoutingModel(manager)\n",
        "\n",
        "# Callback: returns distance between two nodes\n",
        "def distance_callback(from_index, to_index):\n",
        "    # Convert from routing variable Index to distance matrix NodeIndex\n",
        "    from_node = manager.IndexToNode(from_index)\n",
        "    to_node = manager.IndexToNode(to_index)\n",
        "    return data[\"distance_matrix\"][from_node][to_node]\n",
        "\n",
        "# Register the distance callback and set cost evaluator\n",
        "transit_callback_index = routing.RegisterTransitCallback(distance_callback)\n",
        "routing.SetArcCostEvaluatorOfAllVehicles(transit_callback_index)\n",
        "\n",
        "# Set search strategy: greedy initialization using PATH_CHEAPEST_ARC\n",
        "search_parameters = pywrapcp.DefaultRoutingSearchParameters()\n",
        "search_parameters.first_solution_strategy = (\n",
        "    routing_enums_pb2.FirstSolutionStrategy.PATH_CHEAPEST_ARC\n",
        ")\n",
        "\n",
        "# Solve the problem\n",
        "solution = routing.SolveWithParameters(search_parameters)\n",
        "if solution:\n",
        "    total_distance = solution.ObjectiveValue()\n",
        "    index = routing.Start(0)\n",
        "    optimal_path = []\n",
        "    while not routing.IsEnd(index):\n",
        "        optimal_path.append(manager.IndexToNode(index))\n",
        "        index = solution.Value(routing.NextVar(index))\n",
        "    print(f\"Near-optimal shopping path: {optimal_path}\")"
      ]
    }
  ]
}